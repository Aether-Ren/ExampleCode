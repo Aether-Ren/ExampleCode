{
 "cells": [
  {
   "cell_type": "markdown",
   "metadata": {},
   "source": [
    "# Set up"
   ]
  },
  {
   "cell_type": "code",
   "execution_count": 1,
   "metadata": {},
   "outputs": [],
   "source": [
    "import torch\n",
    "import gpytorch\n",
    "import pandas as pd\n",
    "import numpy as np\n",
    "import tqdm as tqdm\n",
    "from linear_operator import settings\n",
    "\n",
    "import pyro\n",
    "import math\n",
    "import pickle\n",
    "import time\n",
    "from joblib import Parallel, delayed\n",
    "\n",
    "from sklearn.preprocessing import StandardScaler\n",
    "\n",
    "from sklearn.decomposition import PCA\n",
    "import matplotlib.pyplot as plt\n",
    "\n",
    "import pyro.distributions as dist\n",
    "from pyro.infer import MCMC, NUTS\n",
    "import arviz as az\n",
    "import seaborn as sns"
   ]
  },
  {
   "cell_type": "code",
   "execution_count": 2,
   "metadata": {},
   "outputs": [],
   "source": [
    "import GP_functions.Loss_function as Loss_function\n",
    "import GP_functions.bound as bound\n",
    "import GP_functions.Estimation as Estimation\n",
    "import GP_functions.Training as Training\n",
    "import GP_functions.Prediction as Prediction\n",
    "import GP_functions.GP_models as GP_models\n",
    "import GP_functions.Tools as Tools"
   ]
  },
  {
   "cell_type": "code",
   "execution_count": null,
   "metadata": {},
   "outputs": [],
   "source": [
    "Device = 'cpu'"
   ]
  },
  {
   "cell_type": "code",
   "execution_count": 3,
   "metadata": {},
   "outputs": [],
   "source": [
    "Device = 'cuda'"
   ]
  },
  {
   "cell_type": "markdown",
   "metadata": {},
   "source": [
    "# Read data"
   ]
  },
  {
   "cell_type": "code",
   "execution_count": 4,
   "metadata": {},
   "outputs": [],
   "source": [
    "TrainData = pd.read_csv('Data/train3D.csv', delimiter=',')\n",
    "TestData = pd.read_csv('Data/test3D.csv', delimiter=',')"
   ]
  },
  {
   "cell_type": "code",
   "execution_count": 5,
   "metadata": {},
   "outputs": [],
   "source": [
    "scaler = StandardScaler()\n",
    "TrainData_standardized = pd.DataFrame(scaler.fit_transform(TrainData), columns=TrainData.columns).values\n",
    "\n",
    "TestData_standardized = pd.DataFrame(scaler.fit_transform(TestData), columns=TestData.columns).values\n",
    "\n",
    "X_train = TrainData_standardized[:,0:2]\n",
    "Y_train = TrainData_standardized[:,-1]\n",
    "\n",
    "X_test = TestData_standardized[:,0:2]\n",
    "Y_test = TestData_standardized[:,-1]"
   ]
  },
  {
   "cell_type": "code",
   "execution_count": null,
   "metadata": {},
   "outputs": [],
   "source": [
    "TrainData_log = np.log(TrainData).values\n",
    "TestData_log = np.log(TestData).values\n",
    "\n",
    "X_train = TrainData_log[:,0]\n",
    "Y_train = TrainData_log[:,-1]\n",
    "\n",
    "X_test = TestData_log[:,0]\n",
    "Y_test = TestData_log[:,-1]"
   ]
  },
  {
   "cell_type": "code",
   "execution_count": 6,
   "metadata": {},
   "outputs": [],
   "source": [
    "train_x = torch.tensor(X_train, dtype=torch.float32).to(Device)\n",
    "test_x = torch.tensor(X_test, dtype=torch.float32).to(Device)\n",
    "\n",
    "train_y = torch.tensor(Y_train, dtype=torch.float32).to(Device)\n",
    "test_y = torch.tensor(Y_test, dtype=torch.float32).to(Device)"
   ]
  },
  {
   "cell_type": "markdown",
   "metadata": {},
   "source": [
    "# Training model"
   ]
  },
  {
   "cell_type": "code",
   "execution_count": 7,
   "metadata": {},
   "outputs": [
    {
     "name": "stderr",
     "output_type": "stream",
     "text": [
      "  5%|▍         | 242/5000 [00:01<00:22, 207.10it/s, loss=0.277]\n"
     ]
    }
   ],
   "source": [
    "LocalGP_models, LocalGP_likelihoods = Training.train_one_column_StandardGP(\n",
    "    train_x, train_y, covar_type='RBF', lr=0.05, num_iterations=5000, patience=10, device=Device, use_amp=False\n",
    "    )"
   ]
  },
  {
   "cell_type": "markdown",
   "metadata": {},
   "source": [
    "# Prediction"
   ]
  },
  {
   "cell_type": "code",
   "execution_count": null,
   "metadata": {},
   "outputs": [],
   "source": [
    "preds = Prediction.preds_for_one_model(LocalGP_models, LocalGP_likelihoods, test_x)"
   ]
  },
  {
   "cell_type": "code",
   "execution_count": null,
   "metadata": {},
   "outputs": [],
   "source": [
    "preds = Prediction.preds_for_one_model(LocalGP_models, LocalGP_likelihoods, test_x).cpu().detach().numpy()"
   ]
  },
  {
   "cell_type": "code",
   "execution_count": null,
   "metadata": {},
   "outputs": [],
   "source": [
    "np.mean((preds - test_y.numpy()) ** 2)"
   ]
  },
  {
   "cell_type": "markdown",
   "metadata": {},
   "source": [
    "# Estimation"
   ]
  },
  {
   "cell_type": "markdown",
   "metadata": {},
   "source": [
    "## Point estimation"
   ]
  },
  {
   "cell_type": "code",
   "execution_count": null,
   "metadata": {},
   "outputs": [],
   "source": [
    "row_idx = 0\n",
    "\n",
    "bounds = bound.get_bounds(train_x)\n",
    "\n",
    "estimated_params, func_loss = Estimation.multi_start_estimation(LocalGP_models, LocalGP_likelihoods, row_idx, test_y, bounds, Estimation.estimate_params_for_one_model_Adam, \n",
    "                                                                num_starts=5, num_iterations=2000, lr=0.01, patience=10, \n",
    "                                                                attraction_threshold=0.1, repulsion_strength=0.5, device=Device)"
   ]
  },
  {
   "cell_type": "code",
   "execution_count": null,
   "metadata": {},
   "outputs": [],
   "source": [
    "test_x[row_idx]"
   ]
  },
  {
   "cell_type": "code",
   "execution_count": null,
   "metadata": {},
   "outputs": [],
   "source": [
    "estimated_params"
   ]
  },
  {
   "cell_type": "markdown",
   "metadata": {},
   "source": [
    "## MCMC "
   ]
  },
  {
   "cell_type": "code",
   "execution_count": 11,
   "metadata": {},
   "outputs": [
    {
     "name": "stderr",
     "output_type": "stream",
     "text": [
      "Sample: 100%|██████████| 1200/1200 [15:21,  1.30it/s, step size=3.17e-01, acc. prob=0.712]"
     ]
    },
    {
     "name": "stdout",
     "output_type": "stream",
     "text": [
      "theta 后验样本： tensor([[ 1.2312,  2.2243],\n",
      "        [-0.5916,  0.3843],\n",
      "        [ 0.0078,  1.6338],\n",
      "        ...,\n",
      "        [ 0.2655, -0.0785],\n",
      "        [-0.2042,  0.2847],\n",
      "        [ 1.3854,  0.6257]], device='cuda:0')\n",
      "sigma 后验样本： tensor([ 0.2283,  5.3697, 13.9438,  0.9720,  0.9086,  0.6755,  0.6554,  0.6509,\n",
      "         0.4044,  0.3947,  0.2047,  0.2047,  3.6546,  4.1857,  1.1755,  0.5573,\n",
      "         2.3854,  0.9522,  1.2388,  6.6828, 13.5470, 13.4358,  9.9434, 17.9348,\n",
      "         1.6421,  9.1053,  5.6211, 14.1836,  4.1577,  2.3326,  1.3487,  0.3149,\n",
      "         0.2146,  1.3211,  2.0641,  3.2226, 10.3880,  6.4395,  2.9364,  3.9645,\n",
      "         0.8275,  1.4484, 15.7952, 11.4831, 15.4199,  5.5404,  5.0288,  6.8639,\n",
      "         5.4953,  0.4533,  1.7605,  3.5855,  2.1364,  4.4119,  0.4647,  0.3278,\n",
      "         1.2752,  0.0766,  0.0766,  0.1587,  0.3532,  0.1869,  0.0938,  0.6913,\n",
      "         0.6720, 15.3887,  0.5774,  1.3710,  8.8819,  0.2139,  0.8064, 15.5388,\n",
      "         3.0117,  0.1446,  4.1421,  0.8204,  0.5005,  0.4529,  0.1607,  0.2067,\n",
      "         1.0192,  9.3492,  0.6209,  0.9488,  0.6910,  0.9564,  2.1136, 11.5404,\n",
      "         8.8107, 11.6962,  6.4160, 15.2760,  3.0257,  1.5475,  5.3435,  3.7737,\n",
      "         4.1854,  5.2174,  5.2520,  1.9506,  1.1340,  2.7282, 16.1093,  0.6926,\n",
      "         0.3307,  1.2271,  2.4119,  1.5900,  0.7341,  0.8030,  0.8932,  1.4214,\n",
      "         2.4516,  1.2464,  0.2658,  1.5283,  0.2464,  1.4934,  2.0358,  2.7890,\n",
      "         0.2207,  0.2136,  0.1561,  0.2771,  0.1138,  0.1390,  0.1187,  0.1187,\n",
      "         0.2961,  0.1410,  1.1428,  0.3732,  0.1857,  4.1139,  2.9630,  1.2175,\n",
      "         1.1693,  3.3196,  5.8209,  4.7623,  1.7217,  0.6422,  2.5150,  1.0520,\n",
      "         0.6144,  1.6374,  1.3605,  0.7277,  0.5042,  1.0593,  6.1263,  3.3617,\n",
      "         1.7418,  1.8577,  0.4215,  0.7193,  6.4371,  1.5668,  2.3034,  0.8765,\n",
      "         1.8116,  0.4818,  3.8136,  9.0750,  0.2178,  0.6317,  1.0391,  0.3462,\n",
      "         2.1817,  0.3731,  0.2298,  0.1957,  0.1957,  0.1164,  0.3517,  0.2112,\n",
      "         0.0718,  0.5516,  7.4121,  0.4799,  0.3772,  3.9023,  2.8114,  0.2122,\n",
      "         0.1864,  0.1056,  1.6393,  0.1882,  0.1882,  0.2236,  0.2090,  0.1386,\n",
      "         0.3237,  0.5018,  0.1135,  0.0709,  0.0709,  0.5695,  5.9331,  0.2628,\n",
      "         0.2493,  0.0847,  0.1756,  0.0893,  0.0893,  0.1048,  0.1726,  0.2795,\n",
      "         0.2364,  0.2448,  6.8966,  5.4051,  6.7590, 13.3065,  2.0017,  1.6961,\n",
      "         1.9039,  4.7489,  4.7489,  3.3814,  6.7018,  0.6929,  0.4988,  5.6608,\n",
      "         0.6544, 10.3271,  5.2029,  5.8961,  1.7745,  0.2602,  1.1299, 18.3282,\n",
      "         5.7951,  5.9777,  5.9777,  5.9777,  0.2093,  0.0819,  1.1494,  0.7514,\n",
      "         0.3214,  0.3102,  0.2339, 16.8251,  5.1160,  4.7422,  1.7435,  1.0887,\n",
      "         5.3715,  5.1069,  0.9709,  0.0835,  2.8458,  2.4568,  0.2101,  9.7338,\n",
      "         1.3737,  1.0154,  0.5171,  0.3189,  0.6494,  0.6319,  1.8273,  0.3590,\n",
      "         3.1387,  1.3143,  3.3354, 14.7060, 11.1362,  1.7474,  3.0995,  0.1161,\n",
      "         0.1746,  0.2104,  0.9650,  0.1725,  0.5128,  0.7458,  0.4062,  0.1220,\n",
      "         0.1199,  0.2747,  0.2212,  0.2212,  0.2188,  0.2226,  0.2759,  0.2894,\n",
      "         8.7616,  2.7633,  1.0715,  0.5936,  0.5936,  0.5169,  0.5169,  0.2175,\n",
      "         0.1372,  0.7575,  0.3986,  7.3036,  0.1625,  0.1625,  0.2665,  0.0888,\n",
      "         0.0658,  0.0658,  0.0658,  0.0263,  0.0263,  0.0263,  0.0319,  0.0255,\n",
      "         0.0785,  0.0815,  0.0815,  0.0700,  0.0649,  0.1405,  0.1504,  0.0874,\n",
      "         0.0874,  0.0896,  0.1981,  0.9485,  2.7173,  9.4874,  3.7285,  2.2773,\n",
      "         3.8491,  6.2335,  0.0867,  0.0867,  0.0867,  0.1106,  0.1106,  0.1106,\n",
      "         0.1106,  0.1106,  0.1106,  0.1269,  0.2372,  1.5285,  3.0203,  0.9365,\n",
      "         1.5102,  5.0687,  1.6319,  1.1662,  0.2756,  0.7275,  0.3408,  0.4945,\n",
      "         0.4615,  0.1613,  0.1703,  0.3853,  7.9257,  7.1928,  3.4733,  3.9955,\n",
      "         1.8870,  3.1383,  1.1960,  5.3736,  4.6894,  4.0233,  3.7326,  1.7520,\n",
      "         1.7374, 10.2903,  4.6852,  0.9095,  0.3806,  1.8170,  1.1861,  5.7398,\n",
      "         4.7297,  1.2080,  2.7050,  0.2403,  0.3954,  0.1780,  1.6422,  3.3892,\n",
      "         1.1025,  1.0472,  1.4688,  1.9198,  3.9335,  0.2053, 11.7587,  0.1078,\n",
      "         2.0383,  2.0157,  0.8822,  6.8719,  0.8590,  3.6104,  1.4352,  1.0839,\n",
      "         2.1101,  2.9905,  1.0522,  0.7709,  9.6313,  8.8770,  0.1926,  1.0202,\n",
      "         0.9923, 16.0852,  1.2501,  8.1616,  1.8855,  5.2851,  3.0321,  0.1942,\n",
      "         0.3237,  0.9622,  0.8321,  0.6679, 18.0490,  8.1003,  6.8004,  8.8390,\n",
      "        10.5169,  0.4824,  0.9587,  2.6409,  4.1890,  0.9993,  0.6201,  0.8121,\n",
      "         0.6289,  2.2590,  0.4833,  0.5227,  6.0143,  2.2583,  0.4268,  0.3949,\n",
      "         0.1910,  0.1910,  0.2548,  1.3197,  6.7912,  2.8106,  1.6347,  0.5669,\n",
      "         0.3115,  0.5540,  0.7473,  0.3656,  0.1992,  0.1992,  0.1665,  0.2017,\n",
      "         0.1739,  0.1739,  0.1201,  0.1201,  0.1845,  1.3340,  1.9031,  3.8703,\n",
      "         1.7082,  6.8517,  4.4554,  2.0487,  0.4074,  0.4074,  0.7422,  0.7951,\n",
      "         0.5514,  0.5514,  0.5514,  1.0758,  0.9189,  0.8323,  1.0123,  0.2996,\n",
      "         5.5845,  0.2974,  0.4862,  2.3788,  2.3788,  0.2406,  0.2329,  1.4999,\n",
      "         8.1291,  7.0158,  4.8460,  3.8812,  1.1322,  0.3262,  0.9985,  0.4118,\n",
      "         8.3070,  0.7007,  0.2480,  0.1088,  0.1356,  0.5355,  0.3757,  3.6601,\n",
      "         0.2108,  0.7084, 15.2030,  1.2489,  0.4584,  0.1174,  0.2150,  0.1661,\n",
      "         0.2942,  1.5208,  0.8341,  0.6614,  4.1601,  2.6924,  0.6888,  0.7944,\n",
      "         0.7944,  0.3146,  0.0546,  0.4138,  1.5070,  0.9183,  2.0814,  0.2729,\n",
      "         1.7402,  7.2202,  7.8607,  8.3401,  7.3614,  1.4727,  0.7742,  0.3583,\n",
      "         0.3861,  0.2319,  0.5634,  1.1149,  1.0802,  0.6954,  0.6871,  3.3457,\n",
      "         3.1913,  3.3948,  5.5538, 13.0444, 13.4661,  8.6622,  1.6630,  0.7477,\n",
      "         0.2992,  0.5114,  0.5045,  0.1879,  0.1879,  0.1791,  0.2109,  0.1834,\n",
      "         0.1342,  0.2359,  0.4575,  6.5551,  9.1053,  1.8213, 10.9102,  8.6329,\n",
      "         1.6297,  6.7221,  7.1446,  0.6172,  0.8682,  0.7901,  2.3125,  7.6376,\n",
      "         6.0480,  0.9388,  0.8393,  2.7127, 18.9462, 10.2575,  0.8174,  0.6100,\n",
      "         0.2450,  0.6005,  0.9076,  0.2404,  0.2753,  0.2160,  0.2160,  0.2160,\n",
      "         0.1904,  0.3173,  0.4788,  0.3010,  0.2929,  2.5085,  7.0911,  0.9203,\n",
      "         6.1317,  5.7468,  1.7045,  0.7821,  1.0597,  0.1937,  0.3989,  0.3624,\n",
      "         0.1661,  0.0681,  0.0681,  0.0666,  0.1202,  0.1174,  0.1318,  0.1337,\n",
      "         0.2377,  1.2852, 10.3936,  4.1320,  5.1725,  2.8674,  0.8563,  0.3121,\n",
      "         2.0285,  3.8864,  8.6462,  0.8865,  0.8634,  7.2827,  4.3683,  1.1844,\n",
      "         1.7029,  8.9184,  0.3734,  0.3982,  1.9515,  4.6537,  2.9150,  3.9509,\n",
      "         3.5126,  4.0266,  2.0201,  8.0828, 10.7551,  3.4437,  7.5931,  2.5338,\n",
      "         1.5586,  0.3006,  0.4349,  2.2018,  0.1342,  0.1023,  0.1084,  0.0538,\n",
      "         8.2909,  4.9963,  1.1514,  0.4061,  0.7011,  0.5478,  0.5529,  2.9686,\n",
      "         2.2540,  1.6502,  2.8403,  2.4553,  0.8422,  0.8422,  1.2271,  1.7360,\n",
      "         0.4515,  1.0773, 13.6384,  0.7057,  7.5820,  3.8288,  1.9036,  5.5479,\n",
      "         0.2150,  0.7533, 11.6075,  0.7443,  6.1512,  6.1512,  2.6395,  1.2413,\n",
      "         6.5969,  0.8697,  3.2764,  5.5625,  4.5929,  8.8466,  0.6556,  0.3917,\n",
      "         3.3985,  4.0031,  3.9146, 10.4528,  0.2115,  0.6004,  5.4339,  4.9692,\n",
      "         1.7613,  1.4709,  0.3217,  0.3730,  0.4710,  0.1621,  0.4370,  3.7009,\n",
      "         2.7601,  0.6311,  0.9522,  0.8273,  2.6815,  3.2187,  0.6396,  0.7167,\n",
      "         0.4719,  0.4719,  1.3218,  5.6492, 10.1499, 19.1574,  4.6418, 11.6700,\n",
      "        16.4880,  9.7766,  0.9736,  2.0956,  0.9715,  0.1739,  0.7981,  0.2918,\n",
      "         0.4048,  0.4479,  1.2455,  0.9451,  1.6071,  0.8159,  0.5255,  0.5337,\n",
      "         0.4062,  0.4752,  0.0469,  0.0469,  0.0822,  0.0822,  0.0822,  0.0822,\n",
      "         0.0822,  0.0822,  0.2449,  0.1176,  0.1002,  0.2027,  0.3012,  0.7072,\n",
      "         0.4534,  0.2938,  0.2462,  0.1506,  0.1386,  0.1386,  0.1287,  0.1287,\n",
      "         0.6352,  0.2765,  0.2388,  0.0736,  0.2288,  0.2742,  0.9143, 14.2983,\n",
      "         0.3774,  0.2889,  2.6727,  4.4894,  3.3591,  1.3661,  1.9935,  0.4641,\n",
      "         0.2998,  0.4524,  0.6289,  0.3006, 13.6367,  0.2688,  0.1900,  0.5281,\n",
      "         0.2519,  7.0879, 12.2357,  3.1855,  7.6752,  6.1705,  0.1224,  0.1002,\n",
      "         0.1002,  1.4408,  2.3901,  3.1560,  0.2938,  0.2841,  0.1326,  0.0737,\n",
      "         0.0737,  0.0600,  0.0497,  0.0497,  0.0497,  0.0516,  0.0516,  0.0516,\n",
      "         0.0516,  0.0516,  0.0516,  0.0516,  0.0516,  0.0516,  0.0516,  0.0516,\n",
      "         0.0516,  0.0516,  0.0516,  0.0516,  0.0516,  0.0516,  0.0516,  0.0472,\n",
      "         0.0472,  0.0472,  0.0472,  0.0472,  0.0472,  0.0472,  0.0589,  0.0589,\n",
      "         0.0589,  0.0589,  0.0557,  0.0557,  0.0557,  0.1383,  0.3255,  0.5057,\n",
      "         0.8635,  1.2355,  3.0858,  2.0366,  0.3976,  0.3976,  3.2133,  1.4818,\n",
      "         0.2742,  0.1587,  0.5552,  4.0883,  2.8499,  1.5725,  0.1691,  0.2037,\n",
      "         3.2864,  0.5278,  0.8341,  1.1493,  0.8253,  2.1942,  1.5371, 13.4608,\n",
      "         0.4395,  4.9399,  0.3459,  1.4738, 14.2195,  1.7835,  0.2358,  0.3971,\n",
      "         5.6136,  1.8718,  2.4581,  5.4025,  1.2653,  1.0794,  0.1359,  0.1498,\n",
      "         9.0374,  3.3465,  1.3393,  3.6486,  5.1223,  4.1351, 12.9264,  7.8635,\n",
      "         4.2885,  5.9744,  3.1144,  8.2257,  3.0530,  0.1313,  0.1313,  0.1313,\n",
      "         0.1313,  0.1313,  0.1313,  0.1727,  0.2192,  0.4698,  1.3451,  0.3360,\n",
      "         1.8811,  9.6858,  0.8930,  1.9016, 10.6521, 10.8866,  3.6846,  3.6846,\n",
      "        11.9317,  8.7832,  5.6556,  8.5229,  1.2524,  3.7649,  3.2220,  1.5400,\n",
      "        10.5602,  5.1573,  6.4781,  4.1717,  5.8602,  1.0588,  0.9297,  7.9447,\n",
      "         9.3618,  0.3132,  0.1963,  0.6112,  2.2621,  0.9115,  0.3823,  1.9288,\n",
      "         1.0429,  0.1742,  0.1829,  0.2109,  0.6420,  2.0933,  0.9261,  2.7436,\n",
      "         0.4977,  3.2529,  0.2549,  0.3077,  0.2659,  0.2576,  0.2542,  0.9137,\n",
      "         6.9115,  9.3275,  8.5312,  1.8999,  3.0346,  1.6267,  1.0439,  2.2624,\n",
      "         2.0051,  1.6074,  4.3720,  0.3140,  0.1209,  0.1209,  0.0961,  0.0952,\n",
      "         0.1049,  0.1662,  0.2156,  1.2528, 13.9062,  0.5510,  1.0308,  0.3568,\n",
      "         0.6131,  0.5247,  0.3838,  2.5701,  1.7244,  1.5237,  5.4389, 16.5383,\n",
      "         5.2116,  0.9607,  0.9252,  8.0346,  0.4429,  0.1917,  0.1817,  0.2843],\n",
      "       device='cuda:0')\n"
     ]
    },
    {
     "name": "stderr",
     "output_type": "stream",
     "text": [
      "\n"
     ]
    }
   ],
   "source": [
    "# Only can run in .py\n",
    "\n",
    "if __name__ == '__main__':\n",
    "    row_idx = 0\n",
    "\n",
    "    bounds = bound.get_bounds(train_x)\n",
    "\n",
    "    mcmc_result = Estimation.run_mcmc(Prediction.preds_for_one_model, LocalGP_models, LocalGP_likelihoods, row_idx, test_y, bounds, \n",
    "                                                  num_sampling = 1000, warmup_step = 200, num_chains=1, device=Device,jit_compile=False)\n",
    "    samples = mcmc_result.get_samples()\n",
    "    print(\"theta 后验样本：\", samples.get('theta'))\n",
    "    print(\"sigma 后验样本：\", samples.get('sigma'))\n"
   ]
  },
  {
   "cell_type": "code",
   "execution_count": 14,
   "metadata": {},
   "outputs": [
    {
     "data": {
      "image/png": "[encoded data removed]",
      "text/plain": [
       "<Figure size 800x600 with 2 Axes>"
      ]
     },
     "metadata": {},
     "output_type": "display_data"
    }
   ],
   "source": [
    "posterior_samples_Normal = mcmc_result.get_samples()\n",
    "\n",
    "# 如果 test_x 在 GPU 上，则转换为 CPU 的 numpy 数组\n",
    "true_values = test_x[row_idx, :].cpu().detach().numpy() if hasattr(test_x, \"cpu\") else test_x[row_idx, :]\n",
    "point_estimations = None  # 如果有点估计，也需要同样处理\n",
    "\n",
    "num_params = len(posterior_samples_Normal)\n",
    "fig, axes = plt.subplots(num_params, 1, figsize=(8, num_params * 3))\n",
    "if num_params == 1:\n",
    "    axes = [axes]\n",
    "\n",
    "for i, (param_name, samples) in enumerate(posterior_samples_Normal.items()):\n",
    "    ax = axes[i]\n",
    "    # 将 GPU 上的样本数据转移到 CPU 并转换为 numpy 数组\n",
    "    samples_np = samples.cpu().detach().numpy() if samples.device.type != 'cpu' else samples.detach().numpy()\n",
    "    sns.kdeplot(samples_np, ax=ax, color='blue')\n",
    "    ax.set_title(f'Density of {param_name}')\n",
    "    \n",
    "    if true_values is not None and i < len(true_values):\n",
    "        ax.axvline(true_values[i], color='red', linestyle='--', label='True Value')\n",
    "    if point_estimations is not None and i < len(point_estimations):\n",
    "        ax.axvline(point_estimations[i], color='green', linestyle='-.', label='Point Estimation')\n",
    "    ax.legend()\n",
    "\n",
    "plt.tight_layout()\n",
    "plt.show()\n"
   ]
  }
 ],
 "metadata": {
  "kernelspec": {
   "display_name": "FGPyT",
   "language": "python",
   "name": "python3"
  },
  "language_info": {
   "codemirror_mode": {
    "name": "ipython",
    "version": 3
   },
   "file_extension": ".py",
   "mimetype": "text/x-python",
   "name": "python",
   "nbconvert_exporter": "python",
   "pygments_lexer": "ipython3",
   "version": "3.10.15"
  }
 },
 "nbformat": 4,
 "nbformat_minor": 2
}
